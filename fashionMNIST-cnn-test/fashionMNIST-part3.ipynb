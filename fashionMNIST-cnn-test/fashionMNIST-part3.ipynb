{
 "cells": [
  {
   "cell_type": "code",
   "execution_count": 1,
   "metadata": {},
   "outputs": [],
   "source": [
    "import torch\n",
    "import torch.nn as nn\n",
    "import torch.optim as optim\n",
    "\n",
    "import torchvision\n",
    "from torchvision import transforms, datasets\n",
    "\n",
    "import numpy as np\n",
    "import matplotlib.pyplot as plt"
   ]
  },
  {
   "cell_type": "markdown",
   "metadata": {},
   "source": [
    "# Extract , Transform and Load Data"
   ]
  },
  {
   "cell_type": "code",
   "execution_count": 3,
   "metadata": {},
   "outputs": [],
   "source": [
    "train = datasets.FashionMNIST('data/', train=True, download=True,\n",
    "                             transform=transforms.Compose([transforms.ToTensor()]))\n",
    "\n",
    "test = datasets.FashionMNIST('data/', train=True, download=True,\n",
    "                            transform=transforms.Compose([transforms.ToTensor()]))"
   ]
  },
  {
   "cell_type": "code",
   "execution_count": 4,
   "metadata": {},
   "outputs": [],
   "source": [
    "train_set = torch.utils.data.DataLoader(train, batch_size=100, shuffle=True)"
   ]
  },
  {
   "cell_type": "markdown",
   "metadata": {},
   "source": [
    "# Define the Network"
   ]
  },
  {
   "cell_type": "code",
   "execution_count": 2,
   "metadata": {},
   "outputs": [],
   "source": [
    "class NeuralNet(nn.Module):\n",
    "    def __init__(self):\n",
    "        super().__init__()\n",
    "        self.conv1 = nn.Conv2d(in_channels=1, out_channels=6, kernel_size=5)\n",
    "        self.conv2 = nn.Conv2d(in_channels=6, out_channels=12, kernel_size=5)\n",
    "        \n",
    "        self.fc1 = nn.Linear(in_features=12*4*4, out_features=120)\n",
    "        self.fc2 = nn.Linear(in_features=120, out_features=60)\n",
    "        self.out = nn.Linear(in_features=60, out_features=10)\n",
    "        \n",
    "    def forward(self, t):\n",
    "        #layer 1 : input layer\n",
    "        t = t\n",
    "        #Layer 2 : Conv layer 1\n",
    "        t = self.conv1(t)\n",
    "        t = nn.functional.relu(t)\n",
    "        t = nn.functional.max_pool2d(t,kernel_size=2, stride=2)\n",
    "        #layer 3 : Conv layer 2\n",
    "        t = self.conv2(t)\n",
    "        t = nn.functional.relu(t)\n",
    "        t = nn.functional.max_pool2d(t, kernel_size=2, stride=2)\n",
    "        #layer 4 : Linear layer 1\n",
    "        t = t.reshape(-1,12*4*4)\n",
    "        t = self.fc1(t)\n",
    "        t = nn.functional.relu(t)\n",
    "        #layer 5 : Linear layer 2\n",
    "        t = self.fc2(t)\n",
    "        t = nn.functional.relu(t)\n",
    "        #layer 6 : Output layer \n",
    "        t = self.out(t)\n",
    "        #t = nn.functional.softmax(t, dim=1)\n",
    "        \n",
    "        return t\n",
    "        "
   ]
  },
  {
   "cell_type": "markdown",
   "metadata": {},
   "source": [
    "# Train the network for multiple epochs"
   ]
  },
  {
   "cell_type": "code",
   "execution_count": 5,
   "metadata": {},
   "outputs": [
    {
     "name": "stdout",
     "output_type": "stream",
     "text": [
      "epoch :  0  loss :  454.8367790877819  total_correct_predictions :  42898\n",
      "epoch :  1  loss :  297.41376626491547  total_correct_predictions :  48931\n",
      "epoch :  2  loss :  253.54794290661812  total_correct_predictions :  50779\n",
      "epoch :  3  loss :  228.99503433704376  total_correct_predictions :  51746\n",
      "epoch :  4  loss :  210.8637606203556  total_correct_predictions :  52306\n"
     ]
    }
   ],
   "source": [
    "network = NeuralNet()\n",
    "optimizer = optim.Adam(network.parameters(), lr=0.001)\n",
    "\n",
    "for epochs in range(5):\n",
    "    \n",
    "    total_loss = 0\n",
    "    total_correct_predictions = 0\n",
    "    \n",
    "    for batch in train_set:\n",
    "        images, labels = batch\n",
    "        \n",
    "        #Run predictions and calculate the loss\n",
    "        predictions =  network(images)\n",
    "        loss = nn.functional.cross_entropy(predictions,labels)\n",
    "        \n",
    "        optimizer.zero_grad() # zeros out the gradient and prevents gradient from accumalating\n",
    "        loss.backward()   # Calculate gradients\n",
    "        optimizer.step()      # updates the weights\n",
    "        \n",
    "        total_loss += loss.item()\n",
    "        total_correct_predictions += predictions.argmax(dim=1).eq(labels).sum().item()\n",
    "\n",
    "    print(\"epoch : \",epochs,\" loss : \", total_loss, \" total_correct_predictions : \", total_correct_predictions)    \n",
    "        \n",
    "     "
   ]
  },
  {
   "cell_type": "markdown",
   "metadata": {},
   "source": [
    "# Analyzing CNN Results - Confusion Matrix<br>"
   ]
  },
  {
   "cell_type": "code",
   "execution_count": 27,
   "metadata": {},
   "outputs": [],
   "source": [
    "def getTotalCorrect(predictions, labels):\n",
    "    return predictions.argmax(dim=1).eq(labels).sum().item()"
   ]
  },
  {
   "cell_type": "code",
   "execution_count": 12,
   "metadata": {},
   "outputs": [],
   "source": [
    "#@torch.no_grad()\n",
    "def getPredictions(model, loader):\n",
    "    all_predictions = torch.tensor([])\n",
    "    for batch in loader:\n",
    "        images, labels = batch\n",
    "        predictions = model(images)\n",
    "        \n",
    "        all_predictions = torch.cat([all_predictions,predictions],\n",
    "                                   dim=0)\n",
    "    return all_predictions"
   ]
  },
  {
   "cell_type": "code",
   "execution_count": 17,
   "metadata": {},
   "outputs": [],
   "source": [
    "#Disables the gradient tracking.\n",
    "#When we do predictions we do not want any unnecessary overhead\n",
    "#associated with tracking of gradient\n",
    "\n",
    "# 1. We can turn off gradient tracking globally as we did before\n",
    "# 2. We can turn it off locally with what we call as context manager\n",
    "# 3. Annotate the getPrediction function with @torch.no_grad()\n",
    "with torch.no_grad(): \n",
    "    prediction_loader = torch.utils.data.DataLoader(train, \n",
    "                                                    batch_size=10000)\n",
    "    train_predictions = getPredictions(network, prediction_loader)"
   ]
  },
  {
   "cell_type": "code",
   "execution_count": 18,
   "metadata": {},
   "outputs": [
    {
     "name": "stdout",
     "output_type": "stream",
     "text": [
      "False\n"
     ]
    }
   ],
   "source": [
    "print(train_predictions.requires_grad)"
   ]
  },
  {
   "cell_type": "code",
   "execution_count": 28,
   "metadata": {},
   "outputs": [
    {
     "name": "stdout",
     "output_type": "stream",
     "text": [
      "total correct :  52989\n",
      "accuracy :  0.88315\n"
     ]
    }
   ],
   "source": [
    "predictions_correct = getTotalCorrect(train_predictions,\n",
    "                                      train.targets)\n",
    "print('total correct : ', predictions_correct)\n",
    "print('accuracy : ', predictions_correct/len(train))"
   ]
  },
  {
   "cell_type": "markdown",
   "metadata": {},
   "source": [
    "## Building the confusion Matrix"
   ]
  },
  {
   "cell_type": "code",
   "execution_count": 29,
   "metadata": {},
   "outputs": [
    {
     "name": "stdout",
     "output_type": "stream",
     "text": [
      "tensor([9, 0, 0,  ..., 3, 0, 5])\n",
      "tensor([9, 0, 0,  ..., 3, 0, 5])\n"
     ]
    }
   ],
   "source": [
    "print(train.targets)\n",
    "print(train_predictions.argmax(dim=1))"
   ]
  },
  {
   "cell_type": "code",
   "execution_count": 32,
   "metadata": {},
   "outputs": [],
   "source": [
    "stacked = torch.stack([train.targets,\n",
    "                        train_predictions.argmax(dim=1)], dim=1)"
   ]
  },
  {
   "cell_type": "code",
   "execution_count": 36,
   "metadata": {},
   "outputs": [
    {
     "name": "stdout",
     "output_type": "stream",
     "text": [
      "tensor([[9, 9],\n",
      "        [0, 0],\n",
      "        [0, 0],\n",
      "        ...,\n",
      "        [3, 3],\n",
      "        [0, 0],\n",
      "        [5, 5]])\n",
      "[9, 9]\n"
     ]
    }
   ],
   "source": [
    "print(stacked) # col1 : actual  col2: predicted label\n",
    "print(stacked[0].tolist())"
   ]
  },
  {
   "cell_type": "code",
   "execution_count": 37,
   "metadata": {},
   "outputs": [
    {
     "data": {
      "text/plain": [
       "tensor([[0, 0, 0, 0, 0, 0, 0, 0, 0, 0],\n",
       "        [0, 0, 0, 0, 0, 0, 0, 0, 0, 0],\n",
       "        [0, 0, 0, 0, 0, 0, 0, 0, 0, 0],\n",
       "        [0, 0, 0, 0, 0, 0, 0, 0, 0, 0],\n",
       "        [0, 0, 0, 0, 0, 0, 0, 0, 0, 0],\n",
       "        [0, 0, 0, 0, 0, 0, 0, 0, 0, 0],\n",
       "        [0, 0, 0, 0, 0, 0, 0, 0, 0, 0],\n",
       "        [0, 0, 0, 0, 0, 0, 0, 0, 0, 0],\n",
       "        [0, 0, 0, 0, 0, 0, 0, 0, 0, 0],\n",
       "        [0, 0, 0, 0, 0, 0, 0, 0, 0, 0]], dtype=torch.int32)"
      ]
     },
     "execution_count": 37,
     "metadata": {},
     "output_type": "execute_result"
    }
   ],
   "source": [
    "#create an empty confusion matrix\n",
    "confusion_matrix = torch.zeros(10,10,dtype = torch.int32)\n",
    "confusion_matrix"
   ]
  },
  {
   "cell_type": "code",
   "execution_count": 39,
   "metadata": {},
   "outputs": [],
   "source": [
    "for pairs in stacked:\n",
    "    i, j = pairs.tolist()\n",
    "    confusion_matrix[i, j] = confusion_matrix[i, j] +1"
   ]
  },
  {
   "cell_type": "code",
   "execution_count": 40,
   "metadata": {},
   "outputs": [
    {
     "data": {
      "text/plain": [
       "tensor([[4870,   15,   81,  370,   15,    4,  592,    0,   53,    0],\n",
       "        [   4, 5862,    1,  107,    6,    0,   16,    0,    4,    0],\n",
       "        [  61,   10, 4772,   85,  494,    1,  553,    1,   23,    0],\n",
       "        [  89,   48,   16, 5615,   94,    1,  132,    0,    5,    0],\n",
       "        [   7,   21,  394,  338, 4669,    0,  553,    0,   18,    0],\n",
       "        [   0,    1,    0,    1,    0, 5778,    0,  151,   15,   54],\n",
       "        [ 749,   22,  467,  263,  374,    2, 4069,    0,   54,    0],\n",
       "        [   0,    0,    0,    0,    0,   77,    0, 5749,    4,  170],\n",
       "        [  17,    9,   30,   35,   14,   12,   56,    7, 5818,    2],\n",
       "        [   0,    0,    2,    1,    0,   31,    0,  174,    5, 5787]],\n",
       "       dtype=torch.int32)"
      ]
     },
     "execution_count": 40,
     "metadata": {},
     "output_type": "execute_result"
    }
   ],
   "source": [
    "confusion_matrix"
   ]
  },
  {
   "cell_type": "code",
   "execution_count": 43,
   "metadata": {},
   "outputs": [],
   "source": [
    "from sklearn.metrics import confusion_matrix\n",
    "from resources.plotcm import plot_confusion_matrix"
   ]
  },
  {
   "cell_type": "code",
   "execution_count": 45,
   "metadata": {},
   "outputs": [
    {
     "name": "stdout",
     "output_type": "stream",
     "text": [
      "<class 'numpy.ndarray'>\n"
     ]
    },
    {
     "data": {
      "text/plain": [
       "array([[4870,   15,   81,  370,   15,    4,  592,    0,   53,    0],\n",
       "       [   4, 5862,    1,  107,    6,    0,   16,    0,    4,    0],\n",
       "       [  61,   10, 4772,   85,  494,    1,  553,    1,   23,    0],\n",
       "       [  89,   48,   16, 5615,   94,    1,  132,    0,    5,    0],\n",
       "       [   7,   21,  394,  338, 4669,    0,  553,    0,   18,    0],\n",
       "       [   0,    1,    0,    1,    0, 5778,    0,  151,   15,   54],\n",
       "       [ 749,   22,  467,  263,  374,    2, 4069,    0,   54,    0],\n",
       "       [   0,    0,    0,    0,    0,   77,    0, 5749,    4,  170],\n",
       "       [  17,    9,   30,   35,   14,   12,   56,    7, 5818,    2],\n",
       "       [   0,    0,    2,    1,    0,   31,    0,  174,    5, 5787]],\n",
       "      dtype=int64)"
      ]
     },
     "execution_count": 45,
     "metadata": {},
     "output_type": "execute_result"
    }
   ],
   "source": [
    "cm = confusion_matrix(train.targets, \n",
    "                      train_predictions.argmax(dim=1))\n",
    "print(type(cm))\n",
    "cm\n"
   ]
  },
  {
   "cell_type": "code",
   "execution_count": 46,
   "metadata": {},
   "outputs": [
    {
     "name": "stdout",
     "output_type": "stream",
     "text": [
      "Confusion matrix, without normalization\n",
      "[[4870   15   81  370   15    4  592    0   53    0]\n",
      " [   4 5862    1  107    6    0   16    0    4    0]\n",
      " [  61   10 4772   85  494    1  553    1   23    0]\n",
      " [  89   48   16 5615   94    1  132    0    5    0]\n",
      " [   7   21  394  338 4669    0  553    0   18    0]\n",
      " [   0    1    0    1    0 5778    0  151   15   54]\n",
      " [ 749   22  467  263  374    2 4069    0   54    0]\n",
      " [   0    0    0    0    0   77    0 5749    4  170]\n",
      " [  17    9   30   35   14   12   56    7 5818    2]\n",
      " [   0    0    2    1    0   31    0  174    5 5787]]\n"
     ]
    },
    {
     "data": {
      "image/png": "[encoded data removed]",
      "text/plain": [
       "<Figure size 720x720 with 2 Axes>"
      ]
     },
     "metadata": {
      "needs_background": "light"
     },
     "output_type": "display_data"
    }
   ],
   "source": [
    "names = (\n",
    "    'T-shirt/top'\n",
    "    ,'Trouser'\n",
    "    ,'Pullover'\n",
    "    ,'Dress'\n",
    "    ,'Coat'\n",
    "    ,'Sandal'\n",
    "    ,'Shirt'\n",
    "    ,'Sneaker'\n",
    "    ,'Bag'\n",
    "    ,'Ankle boot'\n",
    ")\n",
    "plt.figure(figsize=(10,10))\n",
    "plot_confusion_matrix(cm, names)"
   ]
  },
  {
   "cell_type": "code",
   "execution_count": null,
   "metadata": {},
   "outputs": [],
   "source": []
  }
 ],
 "metadata": {
  "kernelspec": {
   "display_name": "Python 3",
   "language": "python",
   "name": "python3"
  },
  "language_info": {
   "codemirror_mode": {
    "name": "ipython",
    "version": 3
   },
   "file_extension": ".py",
   "mimetype": "text/x-python",
   "name": "python",
   "nbconvert_exporter": "python",
   "pygments_lexer": "ipython3",
   "version": "3.7.6"
  }
 },
 "nbformat": 4,
 "nbformat_minor": 4
}