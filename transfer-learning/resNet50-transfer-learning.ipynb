{
 "metadata": {
  "language_info": {
   "codemirror_mode": {
    "name": "ipython",
    "version": 3
   },
   "file_extension": ".py",
   "mimetype": "text/x-python",
   "name": "python",
   "nbconvert_exporter": "python",
   "pygments_lexer": "ipython3",
   "version": "3.7.6-final"
  },
  "orig_nbformat": 2,
  "kernelspec": {
   "name": "python37664bitbase70e8918de8394c008ce5b5e752288847",
   "display_name": "Python 3.7.6 64-bit ('base')",
   "language": "python"
  }
 },
 "nbformat": 4,
 "nbformat_minor": 2,
 "cells": [
  {
   "cell_type": "code",
   "execution_count": 1,
   "metadata": {},
   "outputs": [],
   "source": [
    "import torch\n",
    "from torchvision import models, transforms, datasets\n",
    "from PIL import Image "
   ]
  },
  {
   "cell_type": "code",
   "execution_count": 2,
   "metadata": {},
   "outputs": [],
   "source": [
    "#******************************\n",
    "# Define image transformations\n",
    "#******************************\n",
    "img_transforms = {\n",
    "    'train' : transforms.Compose([\n",
    "        transforms.RandomResizedCrop(size=256),\n",
    "        transforms.RandomRotation(degrees=15),\n",
    "        transforms.RandomHorizontalFlip(),\n",
    "        transforms.CenterCrop(size=224),\n",
    "        transforms.ToTensor(),\n",
    "        transforms.Normalize([0.485,0.456,0.406],[0.229,0.224,0.225])\n",
    "    ]),\n",
    "    'valid' : transforms.Compose([\n",
    "        transforms.Resize(size=256),\n",
    "        transforms.CenterCrop(size=224),\n",
    "        transforms.ToTensor(),\n",
    "        transforms.Normalize([0.485,0.456,0.406],[0.229,0.224,0.225])\n",
    "    ]),\n",
    "    'test'  : transforms.Compose([\n",
    "        transforms.Resize(size=256),\n",
    "        transforms.CenterCrop(size=224),\n",
    "        transforms.ToTensor(),\n",
    "        transforms.Normalize([0.485,0.456,0.406],[0.229,0.224,0.225])\n",
    "    ])\n",
    "}\n"
   ]
  },
  {
   "cell_type": "code",
   "execution_count": 6,
   "metadata": {},
   "outputs": [],
   "source": [
    "#****************************************************\n",
    "# Define dataset directory paths and other variables\n",
    "#****************************************************\n",
    "#Paths to be used on Google colab\n",
    "# train_datadir = '/content/drive/MyDrive/Datasets/TransferLearning/train'\n",
    "# valid_datadir = '/content/drive/MyDrive/Datasets/TransferLearning/valid'\n",
    "# test_datadir = '/content/drive/MyDrive/Datasets/TransferLearning/test'\n",
    "\n",
    "#Paths to be used on local machine\n",
    "train_datadir = '../data/TransferLearning/train'\n",
    "valid_datadir = '../data/TransferLearning/valid'\n",
    "test_datadir = '../data/TransferLearning/test'\n",
    "\n",
    "data = {\n",
    "    'train' : datasets.ImageFolder(root=train_datadir,transform=img_transforms['train']),\n",
    "    'valid' : datasets.ImageFolder(root=valid_datadir,transform=img_transforms['valid']),\n",
    "    'test'  : datasets.ImageFolder(root=test_datadir,transform=img_transforms['test'])\n",
    "}\n",
    "\n",
    "train_datalen = len(data['train'])\n",
    "valid_datalen = len(data['valid'])\n",
    "test_datalen = len(data['test'])\n",
    "\n",
    "#Load the dataset in batches using the DataLoader\n",
    "batch_len = 32\n",
    "train_dataset = torch.utils.data.DataLoader(data['train'], batch_size= batch_len, shuffle= True)\n",
    "valid_dataset = torch.utils.data.DataLoader(data['valid'], batch_size= batch_len, shuffle= True)\n",
    "test_dataset  = torch.utils.data.DataLoader(data['test'], batch_size= batch_len, shuffle= True)\n",
    "\n"
   ]
  },
  {
   "cell_type": "code",
   "execution_count": 7,
   "metadata": {},
   "outputs": [
    {
     "output_type": "stream",
     "name": "stderr",
     "text": [
      "Downloading: \"https://download.pytorch.org/models/resnet50-19c8e357.pth\" to C:\\Users\\R. Jagannathan/.cache\\torch\\checkpoints\\resnet50-19c8e357.pth\n",
      "100%|██████████| 97.8M/97.8M [00:09<00:00, 11.1MB/s]\n"
     ]
    }
   ],
   "source": [
    "#Load the pre-trained model\n",
    "model_resnet50 = models.resnet50(pretrained=True)"
   ]
  },
  {
   "cell_type": "code",
   "execution_count": 20,
   "metadata": {},
   "outputs": [],
   "source": [
    "#For transfer Learning we freeze the Feature extraction layer\n",
    "#Set requires_grad = False to freeze the parameters and \n",
    "#the gradients are not computed in the backward() \n",
    "for param in model_resnet50.parameters():\n",
    "    param.requires_grad = False\n",
    "\n",
    "#Customize the final fully connected layer to fit our dataset\n",
    "# fully_connected_input = model_resnet50.fc.in_features\n",
    "model_resnet50.fc = torch.nn.Sequential(\n",
    "    torch.nn.Linear(2048, 256),\n",
    "    torch.nn.ReLU(),\n",
    "    torch.nn.Dropout(0.4),\n",
    "    torch.nn.Linear(256, 10)\n",
    ")\n",
    "\n",
    "\n",
    "#Define the loss function and the optimizer\n",
    "loss_func = torch.nn.NLLLoss()\n",
    "optimizer = torch.optim.Adam(model_resnet50.parameters())\n"
   ]
  },
  {
   "cell_type": "code",
   "execution_count": null,
   "metadata": {},
   "outputs": [],
   "source": []
  }
 ]
}