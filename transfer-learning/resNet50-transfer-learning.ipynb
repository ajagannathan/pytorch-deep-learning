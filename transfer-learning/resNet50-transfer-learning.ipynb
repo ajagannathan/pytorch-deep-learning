{
 "metadata": {
  "language_info": {
   "codemirror_mode": {
    "name": "ipython",
    "version": 3
   },
   "file_extension": ".py",
   "mimetype": "text/x-python",
   "name": "python",
   "nbconvert_exporter": "python",
   "pygments_lexer": "ipython3",
   "version": "3.7.6-final"
  },
  "orig_nbformat": 2,
  "kernelspec": {
   "name": "python37664bitbase70e8918de8394c008ce5b5e752288847",
   "display_name": "Python 3.7.6 64-bit ('base')",
   "language": "python"
  }
 },
 "nbformat": 4,
 "nbformat_minor": 2,
 "cells": [
  {
   "cell_type": "code",
   "execution_count": 1,
   "metadata": {},
   "outputs": [],
   "source": [
    "import torch\n",
    "from torchvision import models, transforms, datasets\n",
    "from PIL import Image "
   ]
  },
  {
   "cell_type": "code",
   "execution_count": 2,
   "metadata": {},
   "outputs": [],
   "source": [
    "#******************************\n",
    "# Define image transformations\n",
    "#******************************\n",
    "img_transforms = {\n",
    "    'train' : transforms.Compose([\n",
    "        transforms.RandomResizedCrop(size=256),\n",
    "        transforms.RandomRotation(degrees=15),\n",
    "        transforms.RandomHorizontalFlip(),\n",
    "        transforms.CenterCrop(size=224),\n",
    "        transforms.ToTensor(),\n",
    "        transforms.Normalize([0.485,0.456,0.406],[0.229,0.224,0.225])\n",
    "    ]),\n",
    "    'valid' : transforms.Compose([\n",
    "        transforms.Resize(size=256),\n",
    "        transforms.CenterCrop(size=224),\n",
    "        transforms.ToTensor(),\n",
    "        transforms.Normalize([0.485,0.456,0.406],[0.229,0.224,0.225])\n",
    "    ]),\n",
    "    'test'  : transforms.Compose([\n",
    "        transforms.Resize(size=256),\n",
    "        transforms.CenterCrop(size=224),\n",
    "        transforms.ToTensor(),\n",
    "        transforms.Normalize([0.485,0.456,0.406],[0.229,0.224,0.225])\n",
    "    ])\n",
    "}\n"
   ]
  },
  {
   "cell_type": "code",
   "execution_count": 5,
   "metadata": {},
   "outputs": [
    {
     "output_type": "stream",
     "name": "stdout",
     "text": [
      "training images : 590\nvalid images : 160\ntest images : 200\n"
     ]
    }
   ],
   "source": [
    "#****************************************************\n",
    "# Define dataset directory paths and other variables\n",
    "#****************************************************\n",
    "#Paths to be used on Google colab\n",
    "# train_datadir = '/content/drive/MyDrive/Datasets/TransferLearning/train'\n",
    "# valid_datadir = '/content/drive/MyDrive/Datasets/TransferLearning/valid'\n",
    "# test_datadir = '/content/drive/MyDrive/Datasets/TransferLearning/test'\n",
    "\n",
    "#Paths to be used on local machine\n",
    "train_datadir = '../data/TransferLearning/train'\n",
    "valid_datadir = '../data/TransferLearning/valid'\n",
    "test_datadir = '../data/TransferLearning/test'\n",
    "\n",
    "data = {\n",
    "    'train' : datasets.ImageFolder(root=train_datadir,transform=img_transforms['train']),\n",
    "    'valid' : datasets.ImageFolder(root=valid_datadir,transform=img_transforms['valid']),\n",
    "    'test'  : datasets.ImageFolder(root=test_datadir,transform=img_transforms['test'])\n",
    "}\n",
    "print(\"training images :\",len(data['train']))\n",
    "print(\"valid images :\",len(data['valid']))\n",
    "print(\"test images :\",len(data['test']))"
   ]
  },
  {
   "cell_type": "code",
   "execution_count": null,
   "metadata": {},
   "outputs": [],
   "source": []
  }
 ]
}